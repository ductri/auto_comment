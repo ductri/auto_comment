{
 "cells": [
  {
   "cell_type": "code",
   "execution_count": 1,
   "metadata": {},
   "outputs": [],
   "source": [
    "import sys\n",
    "sys.path.append('/source/main')"
   ]
  },
  {
   "cell_type": "code",
   "execution_count": 2,
   "metadata": {},
   "outputs": [],
   "source": [
    "from pathlib import Path\n",
    "from itertools import chain\n",
    "\n",
    "import pandas as pd\n",
    "from tqdm import tqdm\n",
    "\n",
    "from preprocess import preprocessor"
   ]
  },
  {
   "cell_type": "code",
   "execution_count": 3,
   "metadata": {},
   "outputs": [],
   "source": [
    "pd.set_option('display.max_colwidth', -1)"
   ]
  },
  {
   "cell_type": "code",
   "execution_count": 4,
   "metadata": {},
   "outputs": [],
   "source": [
    "def load_it():\n",
    "    root = Path('/source/main/data_download/output/topics/')\n",
    "    \n",
    "    df = pd.DataFrame()\n",
    "    for p in tqdm(root.glob('*.csv')):\n",
    "        temp = pd.read_csv(str(p),usecols=['id', 'mention'])\n",
    "        temp['topic'] = p.name.split('.')[0]\n",
    "        df = df.append(temp)\n",
    "        \n",
    "    return df"
   ]
  },
  {
   "cell_type": "code",
   "execution_count": 5,
   "metadata": {},
   "outputs": [
    {
     "name": "stderr",
     "output_type": "stream",
     "text": [
      "7it [00:13,  2.08s/it]\n"
     ]
    }
   ],
   "source": [
    "df = load_it()"
   ]
  },
  {
   "cell_type": "code",
   "execution_count": 6,
   "metadata": {},
   "outputs": [
    {
     "data": {
      "text/plain": [
       "(375820, 3)"
      ]
     },
     "execution_count": 6,
     "metadata": {},
     "output_type": "execute_result"
    }
   ],
   "source": [
    "df.shape"
   ]
  },
  {
   "cell_type": "code",
   "execution_count": 7,
   "metadata": {},
   "outputs": [
    {
     "data": {
      "text/html": [
       "<div>\n",
       "<style scoped>\n",
       "    .dataframe tbody tr th:only-of-type {\n",
       "        vertical-align: middle;\n",
       "    }\n",
       "\n",
       "    .dataframe tbody tr th {\n",
       "        vertical-align: top;\n",
       "    }\n",
       "\n",
       "    .dataframe thead th {\n",
       "        text-align: right;\n",
       "    }\n",
       "</style>\n",
       "<table border=\"1\" class=\"dataframe\">\n",
       "  <thead>\n",
       "    <tr style=\"text-align: right;\">\n",
       "      <th></th>\n",
       "      <th>id</th>\n",
       "      <th>mention</th>\n",
       "      <th>topic</th>\n",
       "    </tr>\n",
       "  </thead>\n",
       "  <tbody>\n",
       "    <tr>\n",
       "      <th>30009</th>\n",
       "      <td>b80a118b-3680-55d8-abb8-a27432dc905a</td>\n",
       "      <td>__share__ {\"ynm_des\":\" Mỗi bà mẹ có một hành trình nuôi con duy nhất, với muôn màu muôn sắc. Dù những hành trình ấy có khác nhau như thế nào, có một điều chắc chắn, đó là mẹ luôn l... \",\"ynm_name\":\" Cộng đồng LÀM MẸ KHOA HỌC+ \",\"ynm_caption\":\" youtube.com \"} __post__ Mình biết đến CLB Làm mẹ khoa học+ rất tình cờ trong buổi chiều mưa tâm trạng đang ngổn ngang giữa chăm sóc con cái và công việc thì lướt face thấy các Mom chia sẻ CLB Làm mẹ khoa học + mình cũng đăng ký tham gia. Ở đây mình học hỏi được rất nhiều kinh nghiệm nuôi dạy con từ các mẹ xinh đẹp, giỏi giang và giàu kinh nghiệm nuôi con. Mình biết thế nào là mẹ khoa học+ làm mẹ không cần quá hoàn hảo hãy cứ để các con được lớn lên một cách tự nhiên nhất, và phát triển toàn diện nhất.   Mình thực sự cảm ơn CLB Làm mẹ khoa học + vì những chia sẻ rất hay và ý nghĩa như vậy! #NANOptipro4 #Lammekhoahoc+ #TheScienceOfMother+ __comment__ Oh mình thấy nhiều mẹ tham gia CLB bên này lắm nè __reply__ Clb ngoài tư vấn của chuyên gia thì còn có trao đổi kinh nghiệm của các mẹ nữa đó chị.</td>\n",
       "      <td>6732</td>\n",
       "    </tr>\n",
       "    <tr>\n",
       "      <th>4797</th>\n",
       "      <td>22e22b37-228e-54a3-b022-dd79844c56f5</td>\n",
       "      <td>__share__ Các mẹ hay mua sữa NAN Optipro 4 ở đây vậy nà? Mình thì hay mua ở siêu thị hoặc mua online trên Lazada cho tiện. À, mình vừa vào Lazada đặt mua sữa tiếp thì được biết trong tháng 11, bên đây có chương trình tuần lễ mua sắm, dành nhiều quà tặng dễ thương cho bé như cẩm nang sống, ba lô, xe đạp khi mẹ mua sữa NAN Optipro 4 đó. Link mua hàng đây nè các mẹ https://goo.gl/hT78ZQ. Mẹ nhớ nhanh tay đó nghen vì chương trình chỉ diễn ra trong tháng 11 thôi\\nNAN Optipro 4 có Đạm chất lượng với công thức từ Nestlé Thụy Sĩ, đạt tiêu chuẩn chất lượng CODEX (Châu Âu) và Bộ Y tế (Việt Nam) giúp con tăng cân khỏe mạnh, không béo phì nên mẹ nào cũng thích cả. Được dịp mua hàng tốt, có quà thì mẹ cứ thế mà đặt hàng thôi, hii\\n\\n#NestleNAN #tangcankhoemanh #khoidauvungchac __post__  __comment__ Em mới dùng Nan cho bé trộm vía bé lên cân đều, phải đặt mua kiếm xe đạp dễ thương i nhìn là mê rùi</td>\n",
       "      <td>6732</td>\n",
       "    </tr>\n",
       "    <tr>\n",
       "      <th>69231</th>\n",
       "      <td>da50fb0a-63f3-515b-9f4f-e1a01b3ee07f</td>\n",
       "      <td>__share__ 👉Tin mới! tin mới đây. Mẹ nào cho con uống NAN Optipro 4 thì biết rồi đấy. Sữa NAN cực kì tốt cho sự phát triển dài lâu của bé. Nay Nan Optipro 4 còn thay áo mới nữa nhé, chiếc áo mang màu xanh mới, cao cấp, rất dễ nhận diện và đồng nhất thân thiện nữa các mẹ ơi!\\n  ➡️Công thức sữa thì vẫn không đổi: vẫn công thức dinh dưỡng từ Thụy Sĩ, thể hiện bằng cụm từ \"\"Swiss formulation\"\" trên nhãn hộp giúp các mẹ dễ nhận biết được Nan Optipro 4. các mẹ biết không? Sữa NAN cung cấp Đạm Chất Lượng cho trẻ tăng cân khỏe mạnh, tăng cường sức đề kháng, tiêu hóa khỏe nữa ạ. \\n  😘Sữa được nhập khẩu chính hãng bởi Nestlé Việt Nam nên chất lượng thì các mẹ có thể yên tâm tuyệt đối nhé! Các mẹ có dùng sữa này rồi, thấy sao? Chia sẻ với chị em tí kinh nghiệm nhé!\\n#NANOptipro4 #Tangcankhoemanh #Khoidauvungchac __post__  __comment__ Chất lượng sữa  và giá có đổi không bạn? __reply__ Sữa được nhập khẩu chính hãng bởi Nestlé Việt Nam nên chất lượng và gái sữa luôn luôn tốt nhất, phù hợp với lựa chọn của các mẹ</td>\n",
       "      <td>6732</td>\n",
       "    </tr>\n",
       "    <tr>\n",
       "      <th>57690</th>\n",
       "      <td>4e701a1a-c7fc-526f-92ee-c1dfb63dac46</td>\n",
       "      <td>__share__ {\"ynm_des\":\" Cha mẹ thường ít để ý là giấc ngủ của trẻ cũng là yếu tổ ảnh hưởng nhiều đến sự phát triển chiều cao. Những cách kết hợp dinh dưỡng và giấc ngủ để bé cao lớn hơn? Dinh dưỡng ban ngày sẽ ảnh hưởng như thế nào đến giấc ngủ ban đêm của trẻ nhỏ? \\n  \\n Tất cả những thắc mắc đó sẽ được các chuyên gia và bác sĩ giải đáp trong buổi livestream tư vấn trực tuyến dành cho trẻ từ 2-6 tuổi vào thứ 7, 17/03/2018 từ 13h30 - 15h. \\n  \\n Cả nhà nhớ đón xem livestream và gửi các câu hỏi ngay bây giờ trong phần comment nhé! \",\"ynm_story\":\" Mắt Cười shared Nestlé Baby Vietnam's post. \",\"ynm_name\":\" Nestlé Baby Vietnam \"} __post__ CHƯƠNG TRÌNH TƯ VẤN KIẾN THỨC DINH DƯỠNG &amp; TÂM LÝ GIÚP CON NGỦ NGON\\n👨‍⚕️👨‍⚕️👨‍⚕️ Các mẹ thông thái ơi. Con các mẹ ngủ bao nhiêu tiếng 1 ngày thế? Có mẹ nào để ý đến việc con thao thức, giật mình giữa đêm không? Trẻ vận động 1 chút sẽ ngủ ngon giấc phải không ạ? \\n👩‍🍳👩‍🍳👩‍🍳 Mẹ cháu đang rất hào hứng khi biết được thông tin sắp có chương trình tư vấn về chủ đề \" Dinh dưỡng &amp; Tâm lý giúp trẻ ngủ ngon\" do NAN tổ chức. Chương trình cho sự tham gia của 2 chuyên gia nổi tiếng: Chuyên gia dinh dưỡng Bs. Dương Công Minh &amp; Chuyên gia tâm lý Bs. Thái Thanh Thuỷ. \\n🛎🛎🛎 Chương trình diễn ra vào lúc 13h30 ngày 17/3/2018 tại fanpage Nestle Baby Vietnam. Các mẹ có thể truy cập link này để theo dõi nha 🥛🥛🥛 \\nNhãn hàng Nestle Nan luôn đồng hành cũng các mẹ và các bé, vừa cung cấp nguồn dinh dưỡng chất lượng, vừa cung cấp kiến thức khoa học, thiết thực cho các mẹ trong quá trình nuôi con khôn lớn.\\nCác mẹ đừng bỏ lỡ nha: https://goo.gl/4rwqcT\\n#NANOptipro4 #Tangcankhoemanh #Khoidauvungchac __comment__ Nan tổ chức nhiều chương trình bổ ích quá</td>\n",
       "      <td>6732</td>\n",
       "    </tr>\n",
       "    <tr>\n",
       "      <th>35687</th>\n",
       "      <td>900a2410-ab00-5eb1-b662-a4cc1a117c0b</td>\n",
       "      <td>__share__ {\"ynm_name\":\" Photos from Thị Hồng Anh's post \"} __post__ E cần mua sữa Nan Nga số 2. Bb có ai biết ko cho e xin cái đc với ạ 😘😘😘 __comment__ Nan chỉ mát thôi,chứ k đc nhiều chất đâu b ạ,h Thóc lớn r,nên bổ sung loại nào nh dưỡng chất ấy __reply__ Tuỳ từng bé có hợp hay k ấy c, chứ e thấy e e uống Nan Nga từ bé khỏe mạnh ng chắc mũm mĩm,nhưng đợt 2 3tuoi nó uống nhiều quá, uống sữa thay cơm nên bị béo,về sau chuyển sang sữa Việt nam cái nó gầy đi ngay mà giờ ăn bao nhiêu cũng k hấp thụ</td>\n",
       "      <td>6732</td>\n",
       "    </tr>\n",
       "  </tbody>\n",
       "</table>\n",
       "</div>"
      ],
      "text/plain": [
       "                                         id  \\\n",
       "30009  b80a118b-3680-55d8-abb8-a27432dc905a   \n",
       "4797   22e22b37-228e-54a3-b022-dd79844c56f5   \n",
       "69231  da50fb0a-63f3-515b-9f4f-e1a01b3ee07f   \n",
       "57690  4e701a1a-c7fc-526f-92ee-c1dfb63dac46   \n",
       "35687  900a2410-ab00-5eb1-b662-a4cc1a117c0b   \n",
       "\n",
       "                                                                                                                                                                                                                                                                                                                                                                                                                                                                                                                                                                                                                                                                                                                                                                                                                                                                                                                                                                                                                                                                                                                                                                                                                                                                                                                                                                                                                                                                                                                                                                                                                                                                                                                                                  mention  \\\n",
       "30009  __share__ {\"ynm_des\":\" Mỗi bà mẹ có một hành trình nuôi con duy nhất, với muôn màu muôn sắc. Dù những hành trình ấy có khác nhau như thế nào, có một điều chắc chắn, đó là mẹ luôn l... \",\"ynm_name\":\" Cộng đồng LÀM MẸ KHOA HỌC+ \",\"ynm_caption\":\" youtube.com \"} __post__ Mình biết đến CLB Làm mẹ khoa học+ rất tình cờ trong buổi chiều mưa tâm trạng đang ngổn ngang giữa chăm sóc con cái và công việc thì lướt face thấy các Mom chia sẻ CLB Làm mẹ khoa học + mình cũng đăng ký tham gia. Ở đây mình học hỏi được rất nhiều kinh nghiệm nuôi dạy con từ các mẹ xinh đẹp, giỏi giang và giàu kinh nghiệm nuôi con. Mình biết thế nào là mẹ khoa học+ làm mẹ không cần quá hoàn hảo hãy cứ để các con được lớn lên một cách tự nhiên nhất, và phát triển toàn diện nhất.   Mình thực sự cảm ơn CLB Làm mẹ khoa học + vì những chia sẻ rất hay và ý nghĩa như vậy! #NANOptipro4 #Lammekhoahoc+ #TheScienceOfMother+ __comment__ Oh mình thấy nhiều mẹ tham gia CLB bên này lắm nè __reply__ Clb ngoài tư vấn của chuyên gia thì còn có trao đổi kinh nghiệm của các mẹ nữa đó chị.                                                                                                                                                                                                                                                                                                                                                                                                                                                                                                                                                                                                                                                              \n",
       "4797   __share__ Các mẹ hay mua sữa NAN Optipro 4 ở đây vậy nà? Mình thì hay mua ở siêu thị hoặc mua online trên Lazada cho tiện. À, mình vừa vào Lazada đặt mua sữa tiếp thì được biết trong tháng 11, bên đây có chương trình tuần lễ mua sắm, dành nhiều quà tặng dễ thương cho bé như cẩm nang sống, ba lô, xe đạp khi mẹ mua sữa NAN Optipro 4 đó. Link mua hàng đây nè các mẹ https://goo.gl/hT78ZQ. Mẹ nhớ nhanh tay đó nghen vì chương trình chỉ diễn ra trong tháng 11 thôi\\nNAN Optipro 4 có Đạm chất lượng với công thức từ Nestlé Thụy Sĩ, đạt tiêu chuẩn chất lượng CODEX (Châu Âu) và Bộ Y tế (Việt Nam) giúp con tăng cân khỏe mạnh, không béo phì nên mẹ nào cũng thích cả. Được dịp mua hàng tốt, có quà thì mẹ cứ thế mà đặt hàng thôi, hii\\n\\n#NestleNAN #tangcankhoemanh #khoidauvungchac __post__  __comment__ Em mới dùng Nan cho bé trộm vía bé lên cân đều, phải đặt mua kiếm xe đạp dễ thương i nhìn là mê rùi                                                                                                                                                                                                                                                                                                                                                                                                                                                                                                                                                                                                                                                                                                                                                                                                                     \n",
       "69231  __share__ 👉Tin mới! tin mới đây. Mẹ nào cho con uống NAN Optipro 4 thì biết rồi đấy. Sữa NAN cực kì tốt cho sự phát triển dài lâu của bé. Nay Nan Optipro 4 còn thay áo mới nữa nhé, chiếc áo mang màu xanh mới, cao cấp, rất dễ nhận diện và đồng nhất thân thiện nữa các mẹ ơi!\\n  ➡️Công thức sữa thì vẫn không đổi: vẫn công thức dinh dưỡng từ Thụy Sĩ, thể hiện bằng cụm từ \"\"Swiss formulation\"\" trên nhãn hộp giúp các mẹ dễ nhận biết được Nan Optipro 4. các mẹ biết không? Sữa NAN cung cấp Đạm Chất Lượng cho trẻ tăng cân khỏe mạnh, tăng cường sức đề kháng, tiêu hóa khỏe nữa ạ. \\n  😘Sữa được nhập khẩu chính hãng bởi Nestlé Việt Nam nên chất lượng thì các mẹ có thể yên tâm tuyệt đối nhé! Các mẹ có dùng sữa này rồi, thấy sao? Chia sẻ với chị em tí kinh nghiệm nhé!\\n#NANOptipro4 #Tangcankhoemanh #Khoidauvungchac __post__  __comment__ Chất lượng sữa  và giá có đổi không bạn? __reply__ Sữa được nhập khẩu chính hãng bởi Nestlé Việt Nam nên chất lượng và gái sữa luôn luôn tốt nhất, phù hợp với lựa chọn của các mẹ                                                                                                                                                                                                                                                                                                                                                                                                                                                                                                                                                                                                                                                                                                 \n",
       "57690  __share__ {\"ynm_des\":\" Cha mẹ thường ít để ý là giấc ngủ của trẻ cũng là yếu tổ ảnh hưởng nhiều đến sự phát triển chiều cao. Những cách kết hợp dinh dưỡng và giấc ngủ để bé cao lớn hơn? Dinh dưỡng ban ngày sẽ ảnh hưởng như thế nào đến giấc ngủ ban đêm của trẻ nhỏ? \\n  \\n Tất cả những thắc mắc đó sẽ được các chuyên gia và bác sĩ giải đáp trong buổi livestream tư vấn trực tuyến dành cho trẻ từ 2-6 tuổi vào thứ 7, 17/03/2018 từ 13h30 - 15h. \\n  \\n Cả nhà nhớ đón xem livestream và gửi các câu hỏi ngay bây giờ trong phần comment nhé! \",\"ynm_story\":\" Mắt Cười shared Nestlé Baby Vietnam's post. \",\"ynm_name\":\" Nestlé Baby Vietnam \"} __post__ CHƯƠNG TRÌNH TƯ VẤN KIẾN THỨC DINH DƯỠNG & TÂM LÝ GIÚP CON NGỦ NGON\\n👨‍⚕️👨‍⚕️👨‍⚕️ Các mẹ thông thái ơi. Con các mẹ ngủ bao nhiêu tiếng 1 ngày thế? Có mẹ nào để ý đến việc con thao thức, giật mình giữa đêm không? Trẻ vận động 1 chút sẽ ngủ ngon giấc phải không ạ? \\n👩‍🍳👩‍🍳👩‍🍳 Mẹ cháu đang rất hào hứng khi biết được thông tin sắp có chương trình tư vấn về chủ đề \" Dinh dưỡng & Tâm lý giúp trẻ ngủ ngon\" do NAN tổ chức. Chương trình cho sự tham gia của 2 chuyên gia nổi tiếng: Chuyên gia dinh dưỡng Bs. Dương Công Minh & Chuyên gia tâm lý Bs. Thái Thanh Thuỷ. \\n🛎🛎🛎 Chương trình diễn ra vào lúc 13h30 ngày 17/3/2018 tại fanpage Nestle Baby Vietnam. Các mẹ có thể truy cập link này để theo dõi nha 🥛🥛🥛 \\nNhãn hàng Nestle Nan luôn đồng hành cũng các mẹ và các bé, vừa cung cấp nguồn dinh dưỡng chất lượng, vừa cung cấp kiến thức khoa học, thiết thực cho các mẹ trong quá trình nuôi con khôn lớn.\\nCác mẹ đừng bỏ lỡ nha: https://goo.gl/4rwqcT\\n#NANOptipro4 #Tangcankhoemanh #Khoidauvungchac __comment__ Nan tổ chức nhiều chương trình bổ ích quá   \n",
       "35687  __share__ {\"ynm_name\":\" Photos from Thị Hồng Anh's post \"} __post__ E cần mua sữa Nan Nga số 2. Bb có ai biết ko cho e xin cái đc với ạ 😘😘😘 __comment__ Nan chỉ mát thôi,chứ k đc nhiều chất đâu b ạ,h Thóc lớn r,nên bổ sung loại nào nh dưỡng chất ấy __reply__ Tuỳ từng bé có hợp hay k ấy c, chứ e thấy e e uống Nan Nga từ bé khỏe mạnh ng chắc mũm mĩm,nhưng đợt 2 3tuoi nó uống nhiều quá, uống sữa thay cơm nên bị béo,về sau chuyển sang sữa Việt nam cái nó gầy đi ngay mà giờ ăn bao nhiêu cũng k hấp thụ                                                                                                                                                                                                                                                                                                                                                                                                                                                                                                                                                                                                                                                                                                                                                                                                                                                                                                                                                                                                                                                                                                                                                                                                                                 \n",
       "\n",
       "      topic  \n",
       "30009  6732  \n",
       "4797   6732  \n",
       "69231  6732  \n",
       "57690  6732  \n",
       "35687  6732  "
      ]
     },
     "execution_count": 7,
     "metadata": {},
     "output_type": "execute_result"
    }
   ],
   "source": [
    "df.sample(5)"
   ]
  },
  {
   "cell_type": "code",
   "execution_count": 8,
   "metadata": {},
   "outputs": [],
   "source": [
    "SHARE = '__share__'\n",
    "POST = '__post__'\n",
    "COMMENT = '__comment__'\n",
    "REPLY = '__reply__'"
   ]
  },
  {
   "cell_type": "code",
   "execution_count": 9,
   "metadata": {},
   "outputs": [],
   "source": [
    "def mention2QA(mention):\n",
    "    list_QA = []\n",
    "    if POST in mention and COMMENT in mention:\n",
    "        post_last_idx = mention.find(COMMENT)\n",
    "        comment_last_idx = mention.find(REPLY)\n",
    "        Q = mention[:post_last_idx]\n",
    "        A = mention[post_last_idx+len(COMMENT):comment_last_idx]\n",
    "        list_QA.append((Q, A))\n",
    "    if COMMENT in mention and REPLY in mention:\n",
    "        comment_start_idx = mention.find(COMMENT)\n",
    "        comment_start_idx = 0 if comment_start_idx == -1 else comment_start_idx\n",
    "        comment_last_idx = mention.find(REPLY)\n",
    "        \n",
    "        Q = mention[comment_start_idx:comment_last_idx]\n",
    "        A = mention[comment_last_idx+len(REPLY):-1]\n",
    "        list_QA.append((Q, A))\n",
    "    return list_QA"
   ]
  },
  {
   "cell_type": "code",
   "execution_count": 10,
   "metadata": {},
   "outputs": [
    {
     "data": {
      "text/plain": [
       "[('__share__ Nói đến vấn đề chọn sữa cho con thì mẹ nào cũng luôn quan tâm nhất về dinh dưỡng, chất lượng cũng như thương hiệu sản phẩm.....\\nEm thì chọn sữa NAN Optipro 4. Hiện nay sữa NAN Optipro 4 đã đổi sang bao bì màu xanh, nhưng chất lượng vẫn không hề thay đổi đâu ạ. Trên bao bì mới, các mẹ sẽ thấy dòng chữ \"Swiss formulationtio\". Sữa có chứa đạm chất lượng với công thức dinh dưỡng từ Nestle Thụy Sĩ. Em thấy Kathy uống sữa NAN Optipro 4 bé hấp thụ tốt, tăng cân khỏe mạnh, còn tăng cường sức đề kháng, và tiêu hóa tốt nữa ạ. Ngoài ra sữa được nhập khẩu chính hãng bởi Nestlé Việt Nam nên em càng yên tâm hơn. Mẹ nào còn đang lăn tăn chưa biết nên chọn dòng sữa nào cho bé thì hãy dùng thử sữa NAN Optipro 4 như Kathy nhà em nhé! Mình cùng nhau chia sẻ ý kiến và kinh nghiệm dùng sữa NAN Optipro 4 cho con cùng với em nhé! \\n#NANOptipro4 #Tangcankhoemanh #Khoidauvungchac __post__ ',\n",
       "  ' chị thấy bé uống có hợp và phát triển tốt với lên cân khỏe mạnh k chị Dương Thị Thủy Bình Hà '),\n",
       " ('__comment__ chị thấy bé uống có hợp và phát triển tốt với lên cân khỏe mạnh k chị Dương Thị Thủy Bình Hà ',\n",
       "  ' Chị thấy Nan thay đổi diện mạo mới thế nào ạ')]"
      ]
     },
     "execution_count": 10,
     "metadata": {},
     "output_type": "execute_result"
    }
   ],
   "source": [
    "mention2QA('__share__ Nói đến vấn đề chọn sữa cho con thì mẹ nào cũng luôn quan tâm nhất về dinh dưỡng, chất lượng cũng như thương hiệu sản phẩm.....\\nEm thì chọn sữa NAN Optipro 4. Hiện nay sữa NAN Optipro 4 đã đổi sang bao bì màu xanh, nhưng chất lượng vẫn không hề thay đổi đâu ạ. Trên bao bì mới, các mẹ sẽ thấy dòng chữ \"Swiss formulationtio\". Sữa có chứa đạm chất lượng với công thức dinh dưỡng từ Nestle Thụy Sĩ. Em thấy Kathy uống sữa NAN Optipro 4 bé hấp thụ tốt, tăng cân khỏe mạnh, còn tăng cường sức đề kháng, và tiêu hóa tốt nữa ạ. Ngoài ra sữa được nhập khẩu chính hãng bởi Nestlé Việt Nam nên em càng yên tâm hơn. Mẹ nào còn đang lăn tăn chưa biết nên chọn dòng sữa nào cho bé thì hãy dùng thử sữa NAN Optipro 4 như Kathy nhà em nhé! Mình cùng nhau chia sẻ ý kiến và kinh nghiệm dùng sữa NAN Optipro 4 cho con cùng với em nhé! \\n#NANOptipro4 #Tangcankhoemanh #Khoidauvungchac __post__ __comment__ chị thấy bé uống có hợp và phát triển tốt với lên cân khỏe mạnh k chị Dương Thị Thủy Bình Hà __reply__ Chị thấy Nan thay đổi diện mạo mới thế nào ạ?')"
   ]
  },
  {
   "cell_type": "code",
   "execution_count": 11,
   "metadata": {},
   "outputs": [],
   "source": [
    "list_QA = list(df['mention'].map(mention2QA))\n",
    "list_QA = list(chain(*list_QA))"
   ]
  },
  {
   "cell_type": "code",
   "execution_count": 12,
   "metadata": {},
   "outputs": [
    {
     "data": {
      "text/plain": [
       "468790"
      ]
     },
     "execution_count": 12,
     "metadata": {},
     "output_type": "execute_result"
    }
   ],
   "source": [
    "len(list_QA)"
   ]
  },
  {
   "cell_type": "code",
   "execution_count": 13,
   "metadata": {},
   "outputs": [],
   "source": [
    "df_QA = pd.DataFrame(list_QA, columns=['q', 'a'])"
   ]
  },
  {
   "cell_type": "code",
   "execution_count": 14,
   "metadata": {},
   "outputs": [
    {
     "data": {
      "text/html": [
       "<div>\n",
       "<style scoped>\n",
       "    .dataframe tbody tr th:only-of-type {\n",
       "        vertical-align: middle;\n",
       "    }\n",
       "\n",
       "    .dataframe tbody tr th {\n",
       "        vertical-align: top;\n",
       "    }\n",
       "\n",
       "    .dataframe thead th {\n",
       "        text-align: right;\n",
       "    }\n",
       "</style>\n",
       "<table border=\"1\" class=\"dataframe\">\n",
       "  <thead>\n",
       "    <tr style=\"text-align: right;\">\n",
       "      <th></th>\n",
       "      <th>q</th>\n",
       "      <th>a</th>\n",
       "    </tr>\n",
       "  </thead>\n",
       "  <tbody>\n",
       "    <tr>\n",
       "      <th>0</th>\n",
       "      <td>__share__ Các mon cho em hỏi, em định cho gà nhà em tập ăn thêm sữa công thức mà không biết cho ăn sữa gì. Lúc mới sinh chưa có sữa em đã cho dùng friso nhưng con không ăn mấy. 1m nằm viện vì viêm phổi bố gà mua similac mà gà cũng không ăn mấy. Giờ ăn sữa gì tốt nhỉ các mon __post__</td>\n",
       "      <td>fiso nga hoặc nan nga mn h</td>\n",
       "    </tr>\n",
       "    <tr>\n",
       "      <th>1</th>\n",
       "      <td>__share__ gà nhà e dùng sữa frisolac mà 2 hôm nay đi ngoài phân xanh thì có phải đổi sữa k các mom? __post__</td>\n",
       "      <td>Dùng sữa ngoài là vậy á mẹ. Mình lâu lâu cug cho con ug friso cug có ít phân xanh. Ks đâ</td>\n",
       "    </tr>\n",
       "    <tr>\n",
       "      <th>2</th>\n",
       "      <td>__share__ em đổi sữa morinaga cho be ga 4,5m vì friso lên kí tốt nhưng bé táo quá, đến nay đừợc 4 ngày dùng sữa và là ngày t3 sau khi ị đợt trước mà bé vẫn chưa ị, mn nào dùng mori cho gà ko ạ, e tưởng mori ị tốt chứ sao vẫn ko ị ạ, hu hu :(( __post__</td>\n",
       "      <td>Con e uông friso cũng táo quá huhu mà trc dùng dielac gold out put rõ đẹ</td>\n",
       "    </tr>\n",
       "    <tr>\n",
       "      <th>3</th>\n",
       "      <td>__share__ em đổi sữa morinaga cho be ga 4,5m vì friso lên kí tốt nhưng bé táo quá, đến nay đừợc 4 ngày dùng sữa và là ngày t3 sau khi ị đợt trước mà bé vẫn chưa ị, mn nào dùng mori cho gà ko ạ, e tưởng mori ị tốt chứ sao vẫn ko ị ạ, hu hu :(( __post__</td>\n",
       "      <td>M mới dùng đc 3 ngay sưa này. Bé đi phân đêp ngay 2 lân. Chắc mát</td>\n",
       "    </tr>\n",
       "    <tr>\n",
       "      <th>4</th>\n",
       "      <td>__comment__ M mới dùng đc 3 ngay sưa này. Bé đi phân đêp ngay 2 lân. Chắc mát</td>\n",
       "      <td>Bé nhà m còi quá. Đang bú mẹ ht. Còi quá sốt ruột nên mới cho bé dùng sưa này 3 ngày nay xem có cải thiên đc k. 2 thang 10 ngày có 4.7k</td>\n",
       "    </tr>\n",
       "  </tbody>\n",
       "</table>\n",
       "</div>"
      ],
      "text/plain": [
       "                                                                                                                                                                                                                                                                                               q  \\\n",
       "0  __share__ Các mon cho em hỏi, em định cho gà nhà em tập ăn thêm sữa công thức mà không biết cho ăn sữa gì. Lúc mới sinh chưa có sữa em đã cho dùng friso nhưng con không ăn mấy. 1m nằm viện vì viêm phổi bố gà mua similac mà gà cũng không ăn mấy. Giờ ăn sữa gì tốt nhỉ các mon __post__     \n",
       "1  __share__ gà nhà e dùng sữa frisolac mà 2 hôm nay đi ngoài phân xanh thì có phải đổi sữa k các mom? __post__                                                                                                                                                                                    \n",
       "2  __share__ em đổi sữa morinaga cho be ga 4,5m vì friso lên kí tốt nhưng bé táo quá, đến nay đừợc 4 ngày dùng sữa và là ngày t3 sau khi ị đợt trước mà bé vẫn chưa ị, mn nào dùng mori cho gà ko ạ, e tưởng mori ị tốt chứ sao vẫn ko ị ạ, hu hu :(( __post__                                     \n",
       "3  __share__ em đổi sữa morinaga cho be ga 4,5m vì friso lên kí tốt nhưng bé táo quá, đến nay đừợc 4 ngày dùng sữa và là ngày t3 sau khi ị đợt trước mà bé vẫn chưa ị, mn nào dùng mori cho gà ko ạ, e tưởng mori ị tốt chứ sao vẫn ko ị ạ, hu hu :(( __post__                                     \n",
       "4  __comment__ M mới dùng đc 3 ngay sưa này. Bé đi phân đêp ngay 2 lân. Chắc mát                                                                                                                                                                                                                   \n",
       "\n",
       "                                                                                                                                          a  \n",
       "0   fiso nga hoặc nan nga mn h                                                                                                               \n",
       "1   Dùng sữa ngoài là vậy á mẹ. Mình lâu lâu cug cho con ug friso cug có ít phân xanh. Ks đâ                                                 \n",
       "2   Con e uông friso cũng táo quá huhu mà trc dùng dielac gold out put rõ đẹ                                                                 \n",
       "3   M mới dùng đc 3 ngay sưa này. Bé đi phân đêp ngay 2 lân. Chắc mát                                                                        \n",
       "4   Bé nhà m còi quá. Đang bú mẹ ht. Còi quá sốt ruột nên mới cho bé dùng sưa này 3 ngày nay xem có cải thiên đc k. 2 thang 10 ngày có 4.7k  "
      ]
     },
     "execution_count": 14,
     "metadata": {},
     "output_type": "execute_result"
    }
   ],
   "source": [
    "df_QA.head()"
   ]
  },
  {
   "cell_type": "code",
   "execution_count": 16,
   "metadata": {},
   "outputs": [
    {
     "data": {
      "text/html": [
       "<div>\n",
       "<style scoped>\n",
       "    .dataframe tbody tr th:only-of-type {\n",
       "        vertical-align: middle;\n",
       "    }\n",
       "\n",
       "    .dataframe tbody tr th {\n",
       "        vertical-align: top;\n",
       "    }\n",
       "\n",
       "    .dataframe thead th {\n",
       "        text-align: right;\n",
       "    }\n",
       "</style>\n",
       "<table border=\"1\" class=\"dataframe\">\n",
       "  <thead>\n",
       "    <tr style=\"text-align: right;\">\n",
       "      <th></th>\n",
       "      <th>q</th>\n",
       "      <th>a</th>\n",
       "    </tr>\n",
       "  </thead>\n",
       "  <tbody>\n",
       "    <tr>\n",
       "      <th>87506</th>\n",
       "      <td>__share__ {\"ynm_story\":\" Enfa A+ Smart Club published a note. \"} __post__ THỂ LỆ &amp; ĐIỀU KIỆN “KHOE ẢNH BÉ THÔNG MINH, TỰ TIN VÀ SẺ CHIA CẢM XÚC”</td>\n",
       "      <td>Ad ơi sao em k kích vô khung ảnh được ak :((. Cả link điền thông tin nữa</td>\n",
       "    </tr>\n",
       "    <tr>\n",
       "      <th>317818</th>\n",
       "      <td>__comment__ Cho mình hỏi Nan có số bột ăn dặm ko</td>\n",
       "      <td>Dạ Chị vui lòng tham khảo sản phẩm bột ăn dặm của NESTLÉ  qua đường link https://concung.com/search?search_query=NESTL%C3%89&amp;submit_search=T%C3%ACm+ki%E1%BA%BFm. Cảm ơn Ch</td>\n",
       "    </tr>\n",
       "    <tr>\n",
       "      <th>2486</th>\n",
       "      <td>__share__ {\"ynm_des\":\" Làm mẹ là một hành trình đầy khó khăn, thăng trầm nhưng cực kì hạnh phúc. Lần đầu tiên làm mẹ với bao bỡ ngỡ, vụng về và lo lắng, buồn vui có, hạnh phúc có. Cuộc sống của mẹ và cả nhà đều xoay quanh thiên thần nhỏ từ đó xả... \",\"ynm_name\":\" Khóc cười chuyện nuôi con của bố mẹ thế kỷ 21 \",\"ynm_caption\":\" eva.vn \"} __post__ 😘Nuôi con là cả một quá trình không hề đơn giản tí nào các mẹ nhỉ? Nhớ lại hồi giai đoạn Bình bị “táo bón” mà đến giờ mình vẫn hãi. Hồi đó mặc dù mình cũng đã chú ý chế độ dinh dưỡng nhiều rau xanh, bổ sung chất xơ nhưng không hiểu sao Bình vẫn thường xuyên bị táo bón. Nhìn con mỗi lần đi “ị” đến xanh cả mặt mà xót lắm.😓Thế rồi mình sốt ruột quá mới dẫn bé đi khám bác sỹ dinh dưỡng thì mới hiểu được vấn đề cốt lõi đó là mình chưa chọn đúng nguồn sữa “mát” cho con. Bởi thế từ khi nghe lời tư vấn bác sỹ, mình chuyển cho bé sang dùng sữa Friso thì con không bị táo bón nữa, con ăn uống cũng ngon miệng hơn nhiều. 😋Giờ nhìn thấy con cao lớn, khỏe mạnh mình thật vui và may mắn khi tìm được đúng nguồn sữa tốt, mát cung cấp cho con mỗi ngày. Mình mới đọc bài báo này mới phát hiện nhiều mẹ cũng khóc cười chuyện nuôi con giống mình nè, hihi</td>\n",
       "      <td>Con mà bị táo bón thì chắc bé khó chịu lắm chị nh</td>\n",
       "    </tr>\n",
       "    <tr>\n",
       "      <th>7753</th>\n",
       "      <td>__share__ {\"ynm_des\":\" Ở trẻ nhỏ, táo bón trở thành nỗi lo của cả gia đình, nhiều trẻ em bị táo bón tạm thời có thể kéo dài một vài ngày và sau ... \",\"ynm_name\":\" Top 3 sữa mát dành cho trẻ táo bón - \",\"ynm_caption\":\" kidsplaza.vn \"} __post__ Hôm nay lại đọc được bài viết này, mừng quá sá luôn mọi người ạ.\\nChuyện là Bảo Bảo bị nóng trong. Sau khi tham khảo ý kiến của mọi người, kết hợp với tìm hiểu thông tin trên mạng, mẹ Bảo Bảo quyết định cho con dùng Friso. Friso là dòng sữa mát, thành phần thiên nhiên, nhiều chất sơ nên giúp bé tiêu hóa tốt, giảm tình trạng táo bón. Và hiện giờ, sau 1 tháng dùng Friso, Bảo Bảo đã không còn táo bón nữa trộm vía con phát triển tốt lắm. Mẹ nào có con đang gặp tình trạng táo bón hay băn khoăn muốn đổi sữa cho con thì tham khảo dòng sữa này nhé. Link cho các mẹ tham khảo nè.\\n</td>\n",
       "      <td>Sữa friso mát lắm phải không chị bé nhà e đang bị táo mà nhiều người khuyên dùng friso qu</td>\n",
       "    </tr>\n",
       "    <tr>\n",
       "      <th>34904</th>\n",
       "      <td>__comment__ Mình đặt mua 1 lon friso gold 5 900g trên lazada mà không nhận được quà tặng như trên là sao?</td>\n",
       "      <td>Mẹ Lê Thị Thương Thương có nhận được email từ Lazada gửi xác nhận đơn hàng thành công chưa ạ. Nếu mẹ đã đặt hàng thành công chắc chắn mẹ sẽ nhận được sản phẩm Friso đặt mua và quà tặng cho bé nhé</td>\n",
       "    </tr>\n",
       "    <tr>\n",
       "      <th>458683</th>\n",
       "      <td>__share__ Các mẹ có con từ 2-6 tuổi đăng ký nhận quà của Nestlé ngay nhé!! \\nChỉ còn tới 31/12 này là hết hạn đăng ký rồi. Đừng bỏ lỡ!\\n\\nQuà tặng Nestlé NAN OPTIPRO 4 với công thức dinh dưỡng Thụy Sỹ bổ sung ĐẠM CHẤT LƯỢNG rất tốt cho bé.\\n\\nHướng dẫn đăng ký: \\n- Link đăng ký: &gt;&gt;&gt; http://bit.ly/2QORmrk (hoặc bấm vào nút Đăng Ký)\\n- Làm theo hướng dẫn để Nestlé gửi quà tới tận nhà nhé!!\\n\\nTới 31/12 này là hết chương trình rồi. Hãy đăng ký ngay để Nestlé gửi quà cho kịp nhé!! __post__</td>\n",
       "      <td>Hồng Lê</td>\n",
       "    </tr>\n",
       "    <tr>\n",
       "      <th>367167</th>\n",
       "      <td>__share__ {\"ynm_des\":\" Trẻ em có thể trạng và nhu cầu dinh dưỡng khác nhau. Để nuôi con một cách khoa học, mẹ cần lắng nghe cơ thể con, thấu hiểu và cung cấp đủ các dưỡng chất phù hợp, giúp con phát huy hết tiềm năng tự nhiên của mình. \",\"ynm_name\":\" Mẹ cũng là nhà khoa học \",\"ynm_caption\":\" thanhnien.vn \"} __post__ Quả thực có nuôi con mới thấu hiểu, với mỗi bé đều có những sở thích khác nhau cả về cách chăm sóc cũng như ăn uống. Bởi vậy mẹ chỉ cần quan sát để hiểu cơ thể trẻ cần gì hay cách thức bổ sung dinh dưỡng phù hợp để cơ thể trẻ hấp thu một cách tốt nhất. \"...hiểu và cung cấp đủ chất dinh dưỡng phù hợp, tránh tạo áp lực lên hệ tiêu hóa còn non nớt của trẻ...\"\\n  🍼🍼🍼 #LamMeKhoaHoc+ #NuoiDuongTronTiemNang\\n</td>\n",
       "      <td>Có sữa Nétle Nan .mẹ yên tâm chăm con hơn . Kg lo táo bó</td>\n",
       "    </tr>\n",
       "    <tr>\n",
       "      <th>38565</th>\n",
       "      <td>__share__ {\"ynm_name\":\" Friso Vietnam \",\"ynm_caption\":\" lazada.vn \"} __post__ LẦN ĐẦU RA MẮT SỮA BỘT PHA SẴN FRISO GOLD - THEO BÉ ĐI MUÔN NƠI, MẸ ƠI AN TÂM NHÉ!\\n\\nVới nguồn sữa chất lượng từ nông trại Hà Lan, nay kết hợp thêm 10 dưỡng chất hỗ trợ đề kháng, sữa bột pha sẵn #FrisoGold chính là bạn đồng hành đầu đời của bé. Thay vòng tay theo sát bảo vệ, với tấm khiên đề kháng vững chắc từ bên trong, mẹ an tâm để bé khám phá thế giới mẹ nhé 💝\\n👉 MUA NGAY tại: https://bit.ly/2y9tbJ0</td>\n",
       "      <td>sữa pha sẵn giá bao nhiu vậy ạ</td>\n",
       "    </tr>\n",
       "    <tr>\n",
       "      <th>40541</th>\n",
       "      <td>__share__ 📣 CHỈ TỪ 9.500Đ - FRISO GOLD NAY CÓ HỘP UỐNG LIỀN TIỆN DỤNG\\nDù ở nhà hay đến trường, dù con tự mình trải nghiệm hay tìm tòi cùng bạn bè, từ nay đã có #FrisoGold sữa bột pha sẵn đồng hành cùng con trong mọi khoảnh khắc rồi đấy mẹ! Có sức đề kháng khỏe mạnh, con tự tin khám phá thế giới bên ngoài.\\n👉 Mẹ CLICK:  https://bit.ly/2y9tbJ0 tìm hiểu ngay 😍 __post__</td>\n",
       "      <td>Lam sao kiem tra friso that ad</td>\n",
       "    </tr>\n",
       "    <tr>\n",
       "      <th>272306</th>\n",
       "      <td>__share__ {\"ynm_story\":\" Lê Trinh is feeling excited. \"} __post__ 🌷🌷🌷Có nuôi con mới hiểu lòng cha mẹ”, khi sinh con mình mới thấm lắm luôn việc ăn uống, dinh dưỡng của con quan trọng thế nào. Mình luôn đặt việc chọn sữa cho con sau khi cai sữa mẹ lên hàng đầu, đảm bảo con không bị táo bón mà vẫn đủ dinh dưỡng cần thiết. May là mình được chị gái chỉ cho sử dụng sữa NAN Optipro 4, có hàm lượng Đạm chất lượng với công thức dinh dưỡng từ Nestle Thụy Sĩ, giúp con tăng cân khỏe mạnh, đề kháng tốt và nhất là cải thiện tiêu hóa, nên không sợ bị táo bón nữa. \\n🌷🌷🌷Mới đây mình mới nghe NAN Optipo 4 đã đổi bao bì, chuyển thành màu xanh mới rất đẹp mắt, cao cấp hẳn. Yên tâm là chất lượng vẫn tốt như xưa nhé. Các mẹ cứ mua thử đi!\\n#NANOptipro4 #Tangcankhoemanh #Khoidauvungchac</td>\n",
       "      <td>Giờ em mới biết có mẫu mới nè ch</td>\n",
       "    </tr>\n",
       "  </tbody>\n",
       "</table>\n",
       "</div>"
      ],
      "text/plain": [
       "                                                                                                                                                                                                                                                                                                                                                                                                                                                                                                                                                                                                                                                                                                                                                                                                                                                                                                                                                                                                                                                                                                                                                                                                                                            q  \\\n",
       "87506   __share__ {\"ynm_story\":\" Enfa A+ Smart Club published a note. \"} __post__ THỂ LỆ & ĐIỀU KIỆN “KHOE ẢNH BÉ THÔNG MINH, TỰ TIN VÀ SẺ CHIA CẢM XÚC”                                                                                                                                                                                                                                                                                                                                                                                                                                                                                                                                                                                                                                                                                                                                                                                                                                                                                                                                                                                                                                                                                        \n",
       "317818  __comment__ Cho mình hỏi Nan có số bột ăn dặm ko                                                                                                                                                                                                                                                                                                                                                                                                                                                                                                                                                                                                                                                                                                                                                                                                                                                                                                                                                                                                                                                                                                                                                                                        \n",
       "2486    __share__ {\"ynm_des\":\" Làm mẹ là một hành trình đầy khó khăn, thăng trầm nhưng cực kì hạnh phúc. Lần đầu tiên làm mẹ với bao bỡ ngỡ, vụng về và lo lắng, buồn vui có, hạnh phúc có. Cuộc sống của mẹ và cả nhà đều xoay quanh thiên thần nhỏ từ đó xả... \",\"ynm_name\":\" Khóc cười chuyện nuôi con của bố mẹ thế kỷ 21 \",\"ynm_caption\":\" eva.vn \"} __post__ 😘Nuôi con là cả một quá trình không hề đơn giản tí nào các mẹ nhỉ? Nhớ lại hồi giai đoạn Bình bị “táo bón” mà đến giờ mình vẫn hãi. Hồi đó mặc dù mình cũng đã chú ý chế độ dinh dưỡng nhiều rau xanh, bổ sung chất xơ nhưng không hiểu sao Bình vẫn thường xuyên bị táo bón. Nhìn con mỗi lần đi “ị” đến xanh cả mặt mà xót lắm.😓Thế rồi mình sốt ruột quá mới dẫn bé đi khám bác sỹ dinh dưỡng thì mới hiểu được vấn đề cốt lõi đó là mình chưa chọn đúng nguồn sữa “mát” cho con. Bởi thế từ khi nghe lời tư vấn bác sỹ, mình chuyển cho bé sang dùng sữa Friso thì con không bị táo bón nữa, con ăn uống cũng ngon miệng hơn nhiều. 😋Giờ nhìn thấy con cao lớn, khỏe mạnh mình thật vui và may mắn khi tìm được đúng nguồn sữa tốt, mát cung cấp cho con mỗi ngày. Mình mới đọc bài báo này mới phát hiện nhiều mẹ cũng khóc cười chuyện nuôi con giống mình nè, hihi    \n",
       "7753    __share__ {\"ynm_des\":\" Ở trẻ nhỏ, táo bón trở thành nỗi lo của cả gia đình, nhiều trẻ em bị táo bón tạm thời có thể kéo dài một vài ngày và sau ... \",\"ynm_name\":\" Top 3 sữa mát dành cho trẻ táo bón - \",\"ynm_caption\":\" kidsplaza.vn \"} __post__ Hôm nay lại đọc được bài viết này, mừng quá sá luôn mọi người ạ.\\nChuyện là Bảo Bảo bị nóng trong. Sau khi tham khảo ý kiến của mọi người, kết hợp với tìm hiểu thông tin trên mạng, mẹ Bảo Bảo quyết định cho con dùng Friso. Friso là dòng sữa mát, thành phần thiên nhiên, nhiều chất sơ nên giúp bé tiêu hóa tốt, giảm tình trạng táo bón. Và hiện giờ, sau 1 tháng dùng Friso, Bảo Bảo đã không còn táo bón nữa trộm vía con phát triển tốt lắm. Mẹ nào có con đang gặp tình trạng táo bón hay băn khoăn muốn đổi sữa cho con thì tham khảo dòng sữa này nhé. Link cho các mẹ tham khảo nè.\\n                                                                                                                                                                                                                                                                                                                                                                                   \n",
       "34904   __comment__ Mình đặt mua 1 lon friso gold 5 900g trên lazada mà không nhận được quà tặng như trên là sao?                                                                                                                                                                                                                                                                                                                                                                                                                                                                                                                                                                                                                                                                                                                                                                                                                                                                                                                                                                                                                                                                                                                               \n",
       "458683  __share__ Các mẹ có con từ 2-6 tuổi đăng ký nhận quà của Nestlé ngay nhé!! \\nChỉ còn tới 31/12 này là hết hạn đăng ký rồi. Đừng bỏ lỡ!\\n\\nQuà tặng Nestlé NAN OPTIPRO 4 với công thức dinh dưỡng Thụy Sỹ bổ sung ĐẠM CHẤT LƯỢNG rất tốt cho bé.\\n\\nHướng dẫn đăng ký: \\n- Link đăng ký: >>> http://bit.ly/2QORmrk (hoặc bấm vào nút Đăng Ký)\\n- Làm theo hướng dẫn để Nestlé gửi quà tới tận nhà nhé!!\\n\\nTới 31/12 này là hết chương trình rồi. Hãy đăng ký ngay để Nestlé gửi quà cho kịp nhé!! __post__                                                                                                                                                                                                                                                                                                                                                                                                                                                                                                                                                                                                                                                                                                                              \n",
       "367167  __share__ {\"ynm_des\":\" Trẻ em có thể trạng và nhu cầu dinh dưỡng khác nhau. Để nuôi con một cách khoa học, mẹ cần lắng nghe cơ thể con, thấu hiểu và cung cấp đủ các dưỡng chất phù hợp, giúp con phát huy hết tiềm năng tự nhiên của mình. \",\"ynm_name\":\" Mẹ cũng là nhà khoa học \",\"ynm_caption\":\" thanhnien.vn \"} __post__ Quả thực có nuôi con mới thấu hiểu, với mỗi bé đều có những sở thích khác nhau cả về cách chăm sóc cũng như ăn uống. Bởi vậy mẹ chỉ cần quan sát để hiểu cơ thể trẻ cần gì hay cách thức bổ sung dinh dưỡng phù hợp để cơ thể trẻ hấp thu một cách tốt nhất. \"...hiểu và cung cấp đủ chất dinh dưỡng phù hợp, tránh tạo áp lực lên hệ tiêu hóa còn non nớt của trẻ...\"\\n  🍼🍼🍼 #LamMeKhoaHoc+ #NuoiDuongTronTiemNang\\n                                                                                                                                                                                                                                                                                                                                                                                                                                                                                     \n",
       "38565   __share__ {\"ynm_name\":\" Friso Vietnam \",\"ynm_caption\":\" lazada.vn \"} __post__ LẦN ĐẦU RA MẮT SỮA BỘT PHA SẴN FRISO GOLD - THEO BÉ ĐI MUÔN NƠI, MẸ ƠI AN TÂM NHÉ!\\n\\nVới nguồn sữa chất lượng từ nông trại Hà Lan, nay kết hợp thêm 10 dưỡng chất hỗ trợ đề kháng, sữa bột pha sẵn #FrisoGold chính là bạn đồng hành đầu đời của bé. Thay vòng tay theo sát bảo vệ, với tấm khiên đề kháng vững chắc từ bên trong, mẹ an tâm để bé khám phá thế giới mẹ nhé 💝\\n👉 MUA NGAY tại: https://bit.ly/2y9tbJ0                                                                                                                                                                                                                                                                                                                                                                                                                                                                                                                                                                                                                                                                                                                                    \n",
       "40541   __share__ 📣 CHỈ TỪ 9.500Đ - FRISO GOLD NAY CÓ HỘP UỐNG LIỀN TIỆN DỤNG\\nDù ở nhà hay đến trường, dù con tự mình trải nghiệm hay tìm tòi cùng bạn bè, từ nay đã có #FrisoGold sữa bột pha sẵn đồng hành cùng con trong mọi khoảnh khắc rồi đấy mẹ! Có sức đề kháng khỏe mạnh, con tự tin khám phá thế giới bên ngoài.\\n👉 Mẹ CLICK:  https://bit.ly/2y9tbJ0 tìm hiểu ngay 😍 __post__                                                                                                                                                                                                                                                                                                                                                                                                                                                                                                                                                                                                                                                                                                                                                                                                                                                       \n",
       "272306  __share__ {\"ynm_story\":\" Lê Trinh is feeling excited. \"} __post__ 🌷🌷🌷Có nuôi con mới hiểu lòng cha mẹ”, khi sinh con mình mới thấm lắm luôn việc ăn uống, dinh dưỡng của con quan trọng thế nào. Mình luôn đặt việc chọn sữa cho con sau khi cai sữa mẹ lên hàng đầu, đảm bảo con không bị táo bón mà vẫn đủ dinh dưỡng cần thiết. May là mình được chị gái chỉ cho sử dụng sữa NAN Optipro 4, có hàm lượng Đạm chất lượng với công thức dinh dưỡng từ Nestle Thụy Sĩ, giúp con tăng cân khỏe mạnh, đề kháng tốt và nhất là cải thiện tiêu hóa, nên không sợ bị táo bón nữa. \\n🌷🌷🌷Mới đây mình mới nghe NAN Optipo 4 đã đổi bao bì, chuyển thành màu xanh mới rất đẹp mắt, cao cấp hẳn. Yên tâm là chất lượng vẫn tốt như xưa nhé. Các mẹ cứ mua thử đi!\\n#NANOptipro4 #Tangcankhoemanh #Khoidauvungchac                                                                                                                                                                                                                                                                                                                                                                                                                                \n",
       "\n",
       "                                                                                                                                                                                                           a  \n",
       "87506    Ad ơi sao em k kích vô khung ảnh được ak :((. Cả link điền thông tin nữa                                                                                                                             \n",
       "317818   Dạ Chị vui lòng tham khảo sản phẩm bột ăn dặm của NESTLÉ  qua đường link https://concung.com/search?search_query=NESTL%C3%89&submit_search=T%C3%ACm+ki%E1%BA%BFm. Cảm ơn Ch                          \n",
       "2486     Con mà bị táo bón thì chắc bé khó chịu lắm chị nh                                                                                                                                                    \n",
       "7753     Sữa friso mát lắm phải không chị bé nhà e đang bị táo mà nhiều người khuyên dùng friso qu                                                                                                            \n",
       "34904    Mẹ Lê Thị Thương Thương có nhận được email từ Lazada gửi xác nhận đơn hàng thành công chưa ạ. Nếu mẹ đã đặt hàng thành công chắc chắn mẹ sẽ nhận được sản phẩm Friso đặt mua và quà tặng cho bé nhé  \n",
       "458683   Hồng Lê                                                                                                                                                                                              \n",
       "367167   Có sữa Nétle Nan .mẹ yên tâm chăm con hơn . Kg lo táo bó                                                                                                                                             \n",
       "38565    sữa pha sẵn giá bao nhiu vậy ạ                                                                                                                                                                       \n",
       "40541    Lam sao kiem tra friso that ad                                                                                                                                                                       \n",
       "272306   Giờ em mới biết có mẫu mới nè ch                                                                                                                                                                     "
      ]
     },
     "execution_count": 16,
     "metadata": {},
     "output_type": "execute_result"
    }
   ],
   "source": [
    "df_QA.sample(10)"
   ]
  },
  {
   "cell_type": "code",
   "execution_count": 21,
   "metadata": {},
   "outputs": [
    {
     "name": "stdout",
     "output_type": "stream",
     "text": [
      "topics\r\n"
     ]
    }
   ],
   "source": [
    "!ls /source/main/data_download/output"
   ]
  },
  {
   "cell_type": "code",
   "execution_count": 22,
   "metadata": {},
   "outputs": [
    {
     "data": {
      "text/plain": [
       "(468790, 2)"
      ]
     },
     "execution_count": 22,
     "metadata": {},
     "output_type": "execute_result"
    }
   ],
   "source": [
    "df_QA.shape"
   ]
  },
  {
   "cell_type": "code",
   "execution_count": 24,
   "metadata": {},
   "outputs": [],
   "source": [
    "df_QA.drop_duplicates(inplace=True)"
   ]
  },
  {
   "cell_type": "code",
   "execution_count": 25,
   "metadata": {},
   "outputs": [],
   "source": [
    "df_QA.dropna(inplace=True)"
   ]
  },
  {
   "cell_type": "code",
   "execution_count": 26,
   "metadata": {},
   "outputs": [
    {
     "data": {
      "text/plain": [
       "(412910, 2)"
      ]
     },
     "execution_count": 26,
     "metadata": {},
     "output_type": "execute_result"
    }
   ],
   "source": [
    "df_QA.shape"
   ]
  },
  {
   "cell_type": "code",
   "execution_count": 36,
   "metadata": {},
   "outputs": [],
   "source": [
    "df_QA.to_csv('/source/main/data_download/output/QA.csv', index=None)"
   ]
  },
  {
   "cell_type": "code",
   "execution_count": 28,
   "metadata": {},
   "outputs": [],
   "source": [
    "df_QA[['q']].to_csv('/source/main/data_download/output/q.csv', index=None, header=None)\n",
    "df_QA[['a']].to_csv('/source/main/data_download/output/a.csv', index=None, header=None)"
   ]
  },
  {
   "cell_type": "code",
   "execution_count": 29,
   "metadata": {},
   "outputs": [
    {
     "data": {
      "text/plain": [
       "248911"
      ]
     },
     "execution_count": 29,
     "metadata": {},
     "output_type": "execute_result"
    }
   ],
   "source": [
    "df_QA['q'].map(lambda x: x.find('\\n')!=-1).sum()"
   ]
  },
  {
   "cell_type": "code",
   "execution_count": 31,
   "metadata": {},
   "outputs": [],
   "source": [
    "x = pd.read_csv('/source/main/data_download/output/QA.csv', lineterminator='\\n')"
   ]
  },
  {
   "cell_type": "code",
   "execution_count": 32,
   "metadata": {},
   "outputs": [
    {
     "data": {
      "text/plain": [
       "248911"
      ]
     },
     "execution_count": 32,
     "metadata": {},
     "output_type": "execute_result"
    }
   ],
   "source": [
    "x['q'].map(lambda x: x.find('\\n')!=-1).sum()"
   ]
  },
  {
   "cell_type": "code",
   "execution_count": 34,
   "metadata": {},
   "outputs": [
    {
     "data": {
      "text/plain": [
       "1"
      ]
     },
     "execution_count": 34,
     "metadata": {},
     "output_type": "execute_result"
    }
   ],
   "source": [
    "x['a'].isnull().sum()"
   ]
  },
  {
   "cell_type": "code",
   "execution_count": 39,
   "metadata": {},
   "outputs": [
    {
     "data": {
      "text/html": [
       "<div>\n",
       "<style scoped>\n",
       "    .dataframe tbody tr th:only-of-type {\n",
       "        vertical-align: middle;\n",
       "    }\n",
       "\n",
       "    .dataframe tbody tr th {\n",
       "        vertical-align: top;\n",
       "    }\n",
       "\n",
       "    .dataframe thead th {\n",
       "        text-align: right;\n",
       "    }\n",
       "</style>\n",
       "<table border=\"1\" class=\"dataframe\">\n",
       "  <thead>\n",
       "    <tr style=\"text-align: right;\">\n",
       "      <th></th>\n",
       "      <th>q</th>\n",
       "      <th>a</th>\n",
       "    </tr>\n",
       "  </thead>\n",
       "  <tbody>\n",
       "    <tr>\n",
       "      <th>192410</th>\n",
       "      <td>__share__ Các mom có ai cho bé uống sữa này cho mình xin rewei nha. Con mình đang uống friso mình định cho bé đổi qua similac mà không biết của nó có ngọt lắm ko, có béo nhiều ko. Cảm ơn các mom nhé __post__</td>\n",
       "      <td>bé mình chịu uống.bé nào hợp lên kí nhiề</td>\n",
       "    </tr>\n",
       "    <tr>\n",
       "      <th>259544</th>\n",
       "      <td>__share__ {\"ynm_des\":\" Mỗi bà mẹ có một hành trình nuôi con duy nhất, với muôn màu muôn sắc. Dù những hành trình ấy có khác nhau như thế nào, có một điều chắc chắn, đó là mẹ luôn l... \",\"ynm_name\":\" Cộng đồng LÀM MẸ KHOA HỌC+ \",\"ynm_caption\":\" youtube.com \"} __post__ 🍀🍁🍀Lần đầu làm mẹ cái gì cũng bỡ ngỡ, chưa có kinh nghiệm nên lắm lúc  vất vả ghê gớm, có vấn đề gì chỉ biết trông chờ anh “google” mà có khi thông tin không chính xác. \\n🌸🌿🌸Từ hồi tham gia CLB “Làm mẹ khoa học+” của nhãn hàng Nan, được giao lưu, học hỏi, chia sẻ kiến thức với các mẹ bỉm sữa giỏi giang, giàu kinh nghiệm khác cũng như các chuyên gia dinh dưỡng, bác sĩ nhi khoa, mình vỡ ra được biết bao nhiêu điều. 😻🏵Nhờ đó mà việc chăm con nhàn nhã và nhẹ nhàng hơn rất nhiều. Mong sao CLB này ngày càng kết nạp thêm nhiều thành viên và tổ chức nhiều buổi giao lưu hơn nữa để các mẹ bỉm sữa được trau dồi kiến thức và việc nuôi con thực sự không còn là... cuộc chiến. 👌✌️👍\\n #NANOptipro4 #Lammekhoahoc #TheScienceOfMother\\n</td>\n",
       "      <td>:</td>\n",
       "    </tr>\n",
       "    <tr>\n",
       "      <th>74574</th>\n",
       "      <td>__comment__ Trời ơi bú 7 ngày 1 lần mỗi lần 120ml là ok rui mà mom còn kêu có 120ml. Cân nặng như kia cũng quá ok rui mà</td>\n",
       "      <td>May Coco  nhà minh 5m20d bdau ăn nhưng minh cho ăn xíu thui, duoi 1t chủ yếu là sữa m</td>\n",
       "    </tr>\n",
       "    <tr>\n",
       "      <th>401923</th>\n",
       "      <td>__share__ {\"ynm_des\":\" Toạ đàm trực tuyến đặc biệt dành cho bố mẹ có bé yêu từ 2 - 6 tuổi chủ đề “LÀM THẾ NÀO ĐỂ TRỞ THÀNH NGƯỜI MẸ KHÉO NUÔI CON KHOẺ MẠNH CẢ VỀ THỂ CHẤT LẪN TINH THẦN?\\\" với sự tham gia của ThS.BS Dương Công Minh - chuyên gia Dinh Dưỡng, BS Bùi Xuân Mạnh - chuyên gia Tâm Lý và mẹ Tô Hồng Vân (mẹ Vịt) \\n Ngoài ra, trong khung giờ vàng phát sóng, 50 bộ gối đi xe sẽ được tặng đến 50 bố mẹ SHARE livestream này đến các bố mẹ khác &amp; có câu hỏi hay nhất cho bé từ 2-6 tuổi gửi về chương trình được BTC bình chọn. Các mẹ ơi, hãy bấm SHARE ngay và đặt câu hỏi ngay nhé \\n Lưu ý \\n 1/ Quà tặng chỉ áp dụng cho bố mẹ có câu hỏi dành cho bé từ 2-6 tuổi \\n 2/ Danh sách tặng quà sẽ được công bố sau buổi livestream và quà tăng sẽ được giao tận nhà bố mẹ trong 45 ngày sau khi công bố kết quả \",\"ynm_story\":\" Đặng Thuỷ shared a live video. \",\"ynm_name\":\" Nestlé Baby Vietnam \"} __post__ Trước giờ mẹ luôn quan tâm sự phát triển của Ốc. Mẹ Ốc không biết nên làm thế nào để nuôi con luôn khỏe mạnh toàn diện, tiện có buổi tọa đàm của Nestlé NAN vào tham khảo ý kiến chuyên gia ngay 🌹🌹. Mọi người cùng vào xem và hỏi để giải đáp thắc mắc nào 😍😍\\n#LamMeKhoaHoc+ #NuoiDuongTronTiemNang</td>\n",
       "      <td>Ngọc Trân mom cứ comt các chuyên gia sẽ trả lời. Nan sẽ lựa chọn câu hỏi hay để tặng quà n</td>\n",
       "    </tr>\n",
       "    <tr>\n",
       "      <th>290172</th>\n",
       "      <td>__share__ {\"ynm_des\":\" Cha mẹ thường ít để ý là giấc ngủ của trẻ cũng là yếu tổ ảnh hưởng nhiều đến sự phát triển chiều cao. Những cách kết hợp dinh dưỡng và giấc ngủ để bé cao lớn hơn? Dinh dưỡng ban ngày sẽ ảnh hưởng như thế nào đến giấc ngủ ban đêm của trẻ nhỏ? \\n  \\n Tất cả những thắc mắc đó sẽ được các chuyên gia và bác sĩ giải đáp trong buổi livestream tư vấn trực tuyến dành cho trẻ từ 2-6 tuổi vào thứ 7, 17/03/2018 từ 13h30 - 15h. \\n  \\n Cả nhà nhớ đón xem livestream và gửi các câu hỏi ngay bây giờ trong phần comment nhé! \",\"ynm_story\":\" Mẹ Su shared Nestlé Baby Vietnam's post. \",\"ynm_name\":\" Nestlé Baby Vietnam \"} __post__ 👉😴Các mẹ thấy giấc ngủ của con có quan trọng ko nè, thường mình chỉ chú ý về vấn đề dinh dưỡng, nhiều khi cũng lơ là giấc ngủ của con ha. Thật ra giấc ngủ rất quan trọng với bé, giúp con phát triển và cao lớn hơn. Nếu con được ngủ đủ giấc, giấc ngủ chất lượng tốt thì càng phát triển tốt hơn nữa.\\n🌞🌚📢🍼Tất tần tật những gì liên quan đến giấc ngủ của bé sẽ được giải đáp qua chương trình LIVESTREAM Tư vấn về vấn đề “DINH DƯỠNG &amp; TÂM LÝ GIÚP TRẺ NGỦ NGON” do Nestle NAN tổ chức vào lúc 13h40 , ngày 17/03/2018 tại fanapge Nestle Baby Vietnam, có sự tham dự của Chuyên gia dinh dưỡng Bác sĩ Dương Công Minh và Chuyên gia tâm lý Bác sĩ Thái Thanh Thủy. \\nMẹ nào quan tâm thì đón xem nhé!\\n#NANOptipro4 #Tangcankhoemanh #Khoidauvungchac</td>\n",
       "      <td>Bé ngủ đủ thì bé sẽ phát triển tốt và có sức khỏe tốt mom nh</td>\n",
       "    </tr>\n",
       "    <tr>\n",
       "      <th>150090</th>\n",
       "      <td>__share__ Nhật ký nuôi con một ngày tháng 8!\\nTừ ngày có Tiger mẹ bắt đầu viết nhật ký, có những trang nhật ký thật vui ngày con biết lật, ngày con biết đi, ngày con biết gọi mama, papa, cũng có ngày “ buồn buồn” con ốm, con khóc… đợt này nhật ký hơi nhiều trang buồn vì Tiger bắt đầu tuổi nghịch ngợm rồi chán ăn hẳn, mẹ từ nhỏ nhẹ đến cáu gắt con vẫn không chịu ăn gì, buồn ơi là sầu. Chia sẻ với các mẹ quen thân trên mạng xã hội thì nghe các mẹ khuyên dùng thử PediaSure xem như thế nào mình cũng không tin lắm vì thấy mỗi mẹ nói một kiểu nhưng càng theo dõi thấy mẹ Trang Huyền vs cả mẹ Ngân Hà review kết quả dùng thử PediaSure qua từng tháng một thì thấy tin hẳn, như kiểu uống đúng 1 tháng thì ăn ngon miệng hơn, 2 tháng thì tăng cân, 3 tháng thì tăng chiều cao khiến mình cũng có niềm tin hơn nên mua thử cho Tiger dùng vì đây thật sự là những yếu tố mình muốn Tiger phát triển. Nên thay vì buồn hay vui mình đang viết những trang nhật ký đầy háo hức, vì dùng PediaSure 1 tháng thì thấy con chịu ăn quá rùi nè, trông chờ trông chờ con tăng cân và tăng chiều cao, trông chờ lắm. Vì vô tình bắt gặp bí quyết trên mạng xã hội nên mình cũng muốn được chia sẻ bí quyết chăm con xuất sắc này đến với các mẹ khác với hi vọng tất cả các người mẹ đều có những trang nhật ký nuôi con tràn đầy niềm vui nhé. Nói nhiều rùi, bí quyết cho bé ăn ngon miệng ở đây nhé:  http://bit.ly/PediaSure_with_LeTrinh\\n\\n#PediaSureambassador #ănngonmiệnghơn #PediaSure __post__</td>\n",
       "      <td>Mai Huong Ha mua Sữa Pediasure  cho bé uống nè tốt lắ</td>\n",
       "    </tr>\n",
       "    <tr>\n",
       "      <th>152105</th>\n",
       "      <td>__comment__ Em đây, cũng từng đau đầu vì vấn đề cân nặng của con, nhưng may quá tìm hiểu xong đổi qua Pediasure, thấy con có sự thay đổi về cân nặng rõ luôn. Không bị chê còi nữa 🙂</td>\n",
       "      <td>Mẹ cũng khéo tìm hiểu cho con ghê, sữa Pediasure mình thấy đứng đầu về vấn đề dinh dưỡng và giúp con tăng cân khoẻ mạn</td>\n",
       "    </tr>\n",
       "    <tr>\n",
       "      <th>200663</th>\n",
       "      <td>__comment__ Vn giờ sợ lắm. Cái j cũng giả</td>\n",
       "      <td>Nguyen Thi Thu Ha ngọt</td>\n",
       "    </tr>\n",
       "    <tr>\n",
       "      <th>357426</th>\n",
       "      <td>__share__ {\"ynm_des\":\" 🇨🇭 MUA NAN CHÍNH HÃNG Ở CON CƯNG – TƯNG BỪNG ĐI THỤY SỸ 🇨🇭️ \\n Hot!!! Chương trình khuyến mãi hấp dẫn CHỈ CÓ TẠI CON CƯNG dành riêng cho ba mẹ mua SẢN PHẨM DINH DƯỠNG NESTLÉ NAN sẽ bắt đầu từ ngày 17/9 đến 25/11/2018. \\n  \\n 🏵TỔNG GIÁ TRỊ GIẢI THƯỞNG LÊN ĐẾN: 520.000.000 VNĐ, gồm: \\n 🇨🇭 01 Giải Nhất: 01 Chuyến du lịch Thụy Sỹ cho 2 người trong 4 ngày trị giá 240.000.000 VNĐ \\n 🇨🇭 10 Giải Nhì: 10 Đồng hồ Tissot, trị giá 10.000.000 VNĐ/chiếc \\n 🇨🇭 500 Giải Ba: 500 thùng thức uống dinh dưỡng pha sẵn NAN OPTIPRO, trị giá 360.000 VNĐ/thùng \\n  \\n 🏵 Điều kiện áp dụng: Với mỗi hóa đơn mua sản phẩm Nan cho trẻ từ 2 đến 6 tuổi từ 360.000 VND trở lên , ba mẹ sẽ có cơ hội nhận 1 trong những giải thưởng siêu HOT trên. 👉 Các sản phẩm Nan áp dụng: https://bit.ly/2v2mVjP \\n  \\n 🏵 Giải Nhì và giải Ba sẽ được quay số mỗi 2 tuần để tìm ra người trúng giải. Giải Nhất sẽ được công bố vào ngày 30/11/2018 \\n 👉 Ba mẹ xem chi tiết Thể lệ Chương trình tại đây: https://bit.ly/2p5nxma \\n ---------- \\n  \\n 🎁 CON CƯNG ĐẶC BIỆT GỬI TẶNG 20 THÙNG THỨC UỐNG DINH DƯỠNG PHA SẴN NAN OPTIRO (TRỊ GIÁ 360.000 VNĐ/THÙNG)  \\n Ba, mẹ chỉ cần: \\n - Bước 1: Like và Share post này về trang cá nhân ở chế độ công khai và hashtag: #MuaNanthamquanThuySy \\n - Bước 2: Tag 3 người bạn vào phần bình luận của post này để các mẹ cùng tham gia nhé \\n - Bước 3: Đăng ký thông tin tại đây:  \\n https://docs.google.com/forms/d/117zgh5riSZ7BV6sSLWQv4NahVlBgWccj-Pip4j5LVug \\n Kết quả sẽ được Con Cưng công bố vào ngày 17/10, ba mẹ đón xem nhé! \",\"ynm_story\":\" Bé May Xinh shared a post. \",\"ynm_name\":\" concung.com \"} __post__ Các mẹ đã biết gì chưa \"MUA NAN THAM QUAN THỤY SỸ\" luôn nè!\\n\\n💁‍♀️Lang thang trên mạng mình “phát hiện” được sự kiện mua sắm KHUYẾN MÃI hấp dẫn và chương trình GIVEAWAY thú vị từ nhãn hàng NESTLÉ NAN nên share với các mẹ ngay và luôn.\\n\\n👉Các mẹ nhớ tranh thủ mua sắm tại các cửa hàng CON CƯNG trên toàn quốc để có cơ hội nhận những phần quà hấp dẫn này nha. Ah ngoài ra các mẹ đừng quên tham gia đăng ký chương trình TẶNG QUÀ để có cơ hội nhận ngay 1 thùng thức uống dinh dưỡng pha sẵn NAN cho các con nhé.\\n\\n💥Thời gian tham gia Chương trình KHUYẾN MÃI sẽ bắt đầu từ ngày 17/9 đến 25/11/2018 nghen các mẹ iu quý hihi :)\\n #MuaNanthamquanThuySy</td>\n",
       "      <td>Em đã nhìn thấy đất nước Thụy Sĩ rồi kì</td>\n",
       "    </tr>\n",
       "    <tr>\n",
       "      <th>145688</th>\n",
       "      <td>__comment__ Cho hoi là mua 1luoc 3lon moi dc hay mua dc tich ly tu tu</td>\n",
       "      <td>PediaSure Việt Nam i mua ở bất kì cửa hàng nào cũng đc phải k</td>\n",
       "    </tr>\n",
       "  </tbody>\n",
       "</table>\n",
       "</div>"
      ],
      "text/plain": [
       "                                                                                                                                                                                                                                                                                                                                                                                                                                                                                                                                                                                                                                                                                                                                                                                                                                                                                                                                                                                                                                                                                                                                                                                                                                                                                                                                                                                                                                                                                                                                                                                                                                                                                                                                                                                                                                                                                                                                                                                                                                                                                                                                                                                                                                                                                                                                                          q  \\\n",
       "192410  __share__ Các mom có ai cho bé uống sữa này cho mình xin rewei nha. Con mình đang uống friso mình định cho bé đổi qua similac mà không biết của nó có ngọt lắm ko, có béo nhiều ko. Cảm ơn các mom nhé __post__                                                                                                                                                                                                                                                                                                                                                                                                                                                                                                                                                                                                                                                                                                                                                                                                                                                                                                                                                                                                                                                                                                                                                                                                                                                                                                                                                                                                                                                                                                                                                                                                                                                                                                                                                                                                                                                                                                                                                                                                                                                                                                                                       \n",
       "259544  __share__ {\"ynm_des\":\" Mỗi bà mẹ có một hành trình nuôi con duy nhất, với muôn màu muôn sắc. Dù những hành trình ấy có khác nhau như thế nào, có một điều chắc chắn, đó là mẹ luôn l... \",\"ynm_name\":\" Cộng đồng LÀM MẸ KHOA HỌC+ \",\"ynm_caption\":\" youtube.com \"} __post__ 🍀🍁🍀Lần đầu làm mẹ cái gì cũng bỡ ngỡ, chưa có kinh nghiệm nên lắm lúc  vất vả ghê gớm, có vấn đề gì chỉ biết trông chờ anh “google” mà có khi thông tin không chính xác. \\n🌸🌿🌸Từ hồi tham gia CLB “Làm mẹ khoa học+” của nhãn hàng Nan, được giao lưu, học hỏi, chia sẻ kiến thức với các mẹ bỉm sữa giỏi giang, giàu kinh nghiệm khác cũng như các chuyên gia dinh dưỡng, bác sĩ nhi khoa, mình vỡ ra được biết bao nhiêu điều. 😻🏵Nhờ đó mà việc chăm con nhàn nhã và nhẹ nhàng hơn rất nhiều. Mong sao CLB này ngày càng kết nạp thêm nhiều thành viên và tổ chức nhiều buổi giao lưu hơn nữa để các mẹ bỉm sữa được trau dồi kiến thức và việc nuôi con thực sự không còn là... cuộc chiến. 👌✌️👍\\n #NANOptipro4 #Lammekhoahoc #TheScienceOfMother\\n                                                                                                                                                                                                                                                                                                                                                                                                                                                                                                                                                                                                                                                                                                                                                                                                                                                                                                                                                                                                                                                                                                                                                                                                                                                                                                                    \n",
       "74574   __comment__ Trời ơi bú 7 ngày 1 lần mỗi lần 120ml là ok rui mà mom còn kêu có 120ml. Cân nặng như kia cũng quá ok rui mà                                                                                                                                                                                                                                                                                                                                                                                                                                                                                                                                                                                                                                                                                                                                                                                                                                                                                                                                                                                                                                                                                                                                                                                                                                                                                                                                                                                                                                                                                                                                                                                                                                                                                                                                                                                                                                                                                                                                                                                                                                                                                                                                                                                                                              \n",
       "401923  __share__ {\"ynm_des\":\" Toạ đàm trực tuyến đặc biệt dành cho bố mẹ có bé yêu từ 2 - 6 tuổi chủ đề “LÀM THẾ NÀO ĐỂ TRỞ THÀNH NGƯỜI MẸ KHÉO NUÔI CON KHOẺ MẠNH CẢ VỀ THỂ CHẤT LẪN TINH THẦN?\\\" với sự tham gia của ThS.BS Dương Công Minh - chuyên gia Dinh Dưỡng, BS Bùi Xuân Mạnh - chuyên gia Tâm Lý và mẹ Tô Hồng Vân (mẹ Vịt) \\n Ngoài ra, trong khung giờ vàng phát sóng, 50 bộ gối đi xe sẽ được tặng đến 50 bố mẹ SHARE livestream này đến các bố mẹ khác & có câu hỏi hay nhất cho bé từ 2-6 tuổi gửi về chương trình được BTC bình chọn. Các mẹ ơi, hãy bấm SHARE ngay và đặt câu hỏi ngay nhé \\n Lưu ý \\n 1/ Quà tặng chỉ áp dụng cho bố mẹ có câu hỏi dành cho bé từ 2-6 tuổi \\n 2/ Danh sách tặng quà sẽ được công bố sau buổi livestream và quà tăng sẽ được giao tận nhà bố mẹ trong 45 ngày sau khi công bố kết quả \",\"ynm_story\":\" Đặng Thuỷ shared a live video. \",\"ynm_name\":\" Nestlé Baby Vietnam \"} __post__ Trước giờ mẹ luôn quan tâm sự phát triển của Ốc. Mẹ Ốc không biết nên làm thế nào để nuôi con luôn khỏe mạnh toàn diện, tiện có buổi tọa đàm của Nestlé NAN vào tham khảo ý kiến chuyên gia ngay 🌹🌹. Mọi người cùng vào xem và hỏi để giải đáp thắc mắc nào 😍😍\\n#LamMeKhoaHoc+ #NuoiDuongTronTiemNang                                                                                                                                                                                                                                                                                                                                                                                                                                                                                                                                                                                                                                                                                                                                                                                                                                                                                                                                                                                                                                                                                                                  \n",
       "290172  __share__ {\"ynm_des\":\" Cha mẹ thường ít để ý là giấc ngủ của trẻ cũng là yếu tổ ảnh hưởng nhiều đến sự phát triển chiều cao. Những cách kết hợp dinh dưỡng và giấc ngủ để bé cao lớn hơn? Dinh dưỡng ban ngày sẽ ảnh hưởng như thế nào đến giấc ngủ ban đêm của trẻ nhỏ? \\n  \\n Tất cả những thắc mắc đó sẽ được các chuyên gia và bác sĩ giải đáp trong buổi livestream tư vấn trực tuyến dành cho trẻ từ 2-6 tuổi vào thứ 7, 17/03/2018 từ 13h30 - 15h. \\n  \\n Cả nhà nhớ đón xem livestream và gửi các câu hỏi ngay bây giờ trong phần comment nhé! \",\"ynm_story\":\" Mẹ Su shared Nestlé Baby Vietnam's post. \",\"ynm_name\":\" Nestlé Baby Vietnam \"} __post__ 👉😴Các mẹ thấy giấc ngủ của con có quan trọng ko nè, thường mình chỉ chú ý về vấn đề dinh dưỡng, nhiều khi cũng lơ là giấc ngủ của con ha. Thật ra giấc ngủ rất quan trọng với bé, giúp con phát triển và cao lớn hơn. Nếu con được ngủ đủ giấc, giấc ngủ chất lượng tốt thì càng phát triển tốt hơn nữa.\\n🌞🌚📢🍼Tất tần tật những gì liên quan đến giấc ngủ của bé sẽ được giải đáp qua chương trình LIVESTREAM Tư vấn về vấn đề “DINH DƯỠNG & TÂM LÝ GIÚP TRẺ NGỦ NGON” do Nestle NAN tổ chức vào lúc 13h40 , ngày 17/03/2018 tại fanapge Nestle Baby Vietnam, có sự tham dự của Chuyên gia dinh dưỡng Bác sĩ Dương Công Minh và Chuyên gia tâm lý Bác sĩ Thái Thanh Thủy. \\nMẹ nào quan tâm thì đón xem nhé!\\n#NANOptipro4 #Tangcankhoemanh #Khoidauvungchac                                                                                                                                                                                                                                                                                                                                                                                                                                                                                                                                                                                                                                                                                                                                                                                                                                                                                                                           \n",
       "150090  __share__ Nhật ký nuôi con một ngày tháng 8!\\nTừ ngày có Tiger mẹ bắt đầu viết nhật ký, có những trang nhật ký thật vui ngày con biết lật, ngày con biết đi, ngày con biết gọi mama, papa, cũng có ngày “ buồn buồn” con ốm, con khóc… đợt này nhật ký hơi nhiều trang buồn vì Tiger bắt đầu tuổi nghịch ngợm rồi chán ăn hẳn, mẹ từ nhỏ nhẹ đến cáu gắt con vẫn không chịu ăn gì, buồn ơi là sầu. Chia sẻ với các mẹ quen thân trên mạng xã hội thì nghe các mẹ khuyên dùng thử PediaSure xem như thế nào mình cũng không tin lắm vì thấy mỗi mẹ nói một kiểu nhưng càng theo dõi thấy mẹ Trang Huyền vs cả mẹ Ngân Hà review kết quả dùng thử PediaSure qua từng tháng một thì thấy tin hẳn, như kiểu uống đúng 1 tháng thì ăn ngon miệng hơn, 2 tháng thì tăng cân, 3 tháng thì tăng chiều cao khiến mình cũng có niềm tin hơn nên mua thử cho Tiger dùng vì đây thật sự là những yếu tố mình muốn Tiger phát triển. Nên thay vì buồn hay vui mình đang viết những trang nhật ký đầy háo hức, vì dùng PediaSure 1 tháng thì thấy con chịu ăn quá rùi nè, trông chờ trông chờ con tăng cân và tăng chiều cao, trông chờ lắm. Vì vô tình bắt gặp bí quyết trên mạng xã hội nên mình cũng muốn được chia sẻ bí quyết chăm con xuất sắc này đến với các mẹ khác với hi vọng tất cả các người mẹ đều có những trang nhật ký nuôi con tràn đầy niềm vui nhé. Nói nhiều rùi, bí quyết cho bé ăn ngon miệng ở đây nhé:  http://bit.ly/PediaSure_with_LeTrinh\\n\\n#PediaSureambassador #ănngonmiệnghơn #PediaSure __post__                                                                                                                                                                                                                                                                                                                                                                                                                                                                                                                                                                                                                                                                                                                                                                                                                                   \n",
       "152105  __comment__ Em đây, cũng từng đau đầu vì vấn đề cân nặng của con, nhưng may quá tìm hiểu xong đổi qua Pediasure, thấy con có sự thay đổi về cân nặng rõ luôn. Không bị chê còi nữa 🙂                                                                                                                                                                                                                                                                                                                                                                                                                                                                                                                                                                                                                                                                                                                                                                                                                                                                                                                                                                                                                                                                                                                                                                                                                                                                                                                                                                                                                                                                                                                                                                                                                                                                                                                                                                                                                                                                                                                                                                                                                                                                                                                                                                  \n",
       "200663  __comment__ Vn giờ sợ lắm. Cái j cũng giả                                                                                                                                                                                                                                                                                                                                                                                                                                                                                                                                                                                                                                                                                                                                                                                                                                                                                                                                                                                                                                                                                                                                                                                                                                                                                                                                                                                                                                                                                                                                                                                                                                                                                                                                                                                                                                                                                                                                                                                                                                                                                                                                                                                                                                                                                                             \n",
       "357426  __share__ {\"ynm_des\":\" 🇨🇭 MUA NAN CHÍNH HÃNG Ở CON CƯNG – TƯNG BỪNG ĐI THỤY SỸ 🇨🇭️ \\n Hot!!! Chương trình khuyến mãi hấp dẫn CHỈ CÓ TẠI CON CƯNG dành riêng cho ba mẹ mua SẢN PHẨM DINH DƯỠNG NESTLÉ NAN sẽ bắt đầu từ ngày 17/9 đến 25/11/2018. \\n  \\n 🏵TỔNG GIÁ TRỊ GIẢI THƯỞNG LÊN ĐẾN: 520.000.000 VNĐ, gồm: \\n 🇨🇭 01 Giải Nhất: 01 Chuyến du lịch Thụy Sỹ cho 2 người trong 4 ngày trị giá 240.000.000 VNĐ \\n 🇨🇭 10 Giải Nhì: 10 Đồng hồ Tissot, trị giá 10.000.000 VNĐ/chiếc \\n 🇨🇭 500 Giải Ba: 500 thùng thức uống dinh dưỡng pha sẵn NAN OPTIPRO, trị giá 360.000 VNĐ/thùng \\n  \\n 🏵 Điều kiện áp dụng: Với mỗi hóa đơn mua sản phẩm Nan cho trẻ từ 2 đến 6 tuổi từ 360.000 VND trở lên , ba mẹ sẽ có cơ hội nhận 1 trong những giải thưởng siêu HOT trên. 👉 Các sản phẩm Nan áp dụng: https://bit.ly/2v2mVjP \\n  \\n 🏵 Giải Nhì và giải Ba sẽ được quay số mỗi 2 tuần để tìm ra người trúng giải. Giải Nhất sẽ được công bố vào ngày 30/11/2018 \\n 👉 Ba mẹ xem chi tiết Thể lệ Chương trình tại đây: https://bit.ly/2p5nxma \\n ---------- \\n  \\n 🎁 CON CƯNG ĐẶC BIỆT GỬI TẶNG 20 THÙNG THỨC UỐNG DINH DƯỠNG PHA SẴN NAN OPTIRO (TRỊ GIÁ 360.000 VNĐ/THÙNG)  \\n Ba, mẹ chỉ cần: \\n - Bước 1: Like và Share post này về trang cá nhân ở chế độ công khai và hashtag: #MuaNanthamquanThuySy \\n - Bước 2: Tag 3 người bạn vào phần bình luận của post này để các mẹ cùng tham gia nhé \\n - Bước 3: Đăng ký thông tin tại đây:  \\n https://docs.google.com/forms/d/117zgh5riSZ7BV6sSLWQv4NahVlBgWccj-Pip4j5LVug \\n Kết quả sẽ được Con Cưng công bố vào ngày 17/10, ba mẹ đón xem nhé! \",\"ynm_story\":\" Bé May Xinh shared a post. \",\"ynm_name\":\" concung.com \"} __post__ Các mẹ đã biết gì chưa \"MUA NAN THAM QUAN THỤY SỸ\" luôn nè!\\n\\n💁‍♀️Lang thang trên mạng mình “phát hiện” được sự kiện mua sắm KHUYẾN MÃI hấp dẫn và chương trình GIVEAWAY thú vị từ nhãn hàng NESTLÉ NAN nên share với các mẹ ngay và luôn.\\n\\n👉Các mẹ nhớ tranh thủ mua sắm tại các cửa hàng CON CƯNG trên toàn quốc để có cơ hội nhận những phần quà hấp dẫn này nha. Ah ngoài ra các mẹ đừng quên tham gia đăng ký chương trình TẶNG QUÀ để có cơ hội nhận ngay 1 thùng thức uống dinh dưỡng pha sẵn NAN cho các con nhé.\\n\\n💥Thời gian tham gia Chương trình KHUYẾN MÃI sẽ bắt đầu từ ngày 17/9 đến 25/11/2018 nghen các mẹ iu quý hihi :)\\n #MuaNanthamquanThuySy    \n",
       "145688  __comment__ Cho hoi là mua 1luoc 3lon moi dc hay mua dc tich ly tu tu                                                                                                                                                                                                                                                                                                                                                                                                                                                                                                                                                                                                                                                                                                                                                                                                                                                                                                                                                                                                                                                                                                                                                                                                                                                                                                                                                                                                                                                                                                                                                                                                                                                                                                                                                                                                                                                                                                                                                                                                                                                                                                                                                                                                                                                                                 \n",
       "\n",
       "                                                                                                                              a  \n",
       "192410   bé mình chịu uống.bé nào hợp lên kí nhiề                                                                                \n",
       "259544   :                                                                                                                       \n",
       "74574    May Coco  nhà minh 5m20d bdau ăn nhưng minh cho ăn xíu thui, duoi 1t chủ yếu là sữa m                                   \n",
       "401923   Ngọc Trân mom cứ comt các chuyên gia sẽ trả lời. Nan sẽ lựa chọn câu hỏi hay để tặng quà n                              \n",
       "290172   Bé ngủ đủ thì bé sẽ phát triển tốt và có sức khỏe tốt mom nh                                                            \n",
       "150090   Mai Huong Ha mua Sữa Pediasure  cho bé uống nè tốt lắ                                                                   \n",
       "152105   Mẹ cũng khéo tìm hiểu cho con ghê, sữa Pediasure mình thấy đứng đầu về vấn đề dinh dưỡng và giúp con tăng cân khoẻ mạn  \n",
       "200663   Nguyen Thi Thu Ha ngọt                                                                                                  \n",
       "357426   Em đã nhìn thấy đất nước Thụy Sĩ rồi kì                                                                                 \n",
       "145688   PediaSure Việt Nam i mua ở bất kì cửa hàng nào cũng đc phải k                                                           "
      ]
     },
     "execution_count": 39,
     "metadata": {},
     "output_type": "execute_result"
    }
   ],
   "source": [
    "df_QA.sample(10)"
   ]
  },
  {
   "cell_type": "code",
   "execution_count": null,
   "metadata": {},
   "outputs": [],
   "source": []
  }
 ],
 "metadata": {
  "kernelspec": {
   "display_name": "Python 3",
   "language": "python",
   "name": "python3"
  },
  "language_info": {
   "codemirror_mode": {
    "name": "ipython",
    "version": 3
   },
   "file_extension": ".py",
   "mimetype": "text/x-python",
   "name": "python",
   "nbconvert_exporter": "python",
   "pygments_lexer": "ipython3",
   "version": "3.5.2"
  }
 },
 "nbformat": 4,
 "nbformat_minor": 2
}
